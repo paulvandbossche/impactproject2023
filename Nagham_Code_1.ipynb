{
 "cells": [
  {
   "cell_type": "code",
   "execution_count": 1,
   "id": "d0a630d6-8409-499b-be4f-7af89ada0596",
   "metadata": {},
   "outputs": [],
   "source": [
    "import pandas as pd\n",
    "\n",
    "data = pd.read_excel('Demand_Forecast_dataset.xlsx.xlsx')"
   ]
  },
  {
   "cell_type": "code",
   "execution_count": 2,
   "id": "f1fb3eb2-677e-4fa4-8ad2-1f12b0cbc2ed",
   "metadata": {},
   "outputs": [
    {
     "name": "stdout",
     "output_type": "stream",
     "text": [
      "[120010970 120012606 120011556 120010566 120010342 120009814 120015842\n",
      " 120012154 120004096 120009816 120011782 120014486 120014488 120015996]\n"
     ]
    }
   ],
   "source": [
    "import pandas as pd\n",
    "\n",
    "# Read the data from the Excel file\n",
    "data = pd.read_excel('Demand_Forecast_dataset.xlsx.xlsx')\n",
    "\n",
    "# Get all unique ID_material values\n",
    "unique_ids = data['ID_material'].unique()\n",
    "\n",
    "# Print the unique ID_material values\n",
    "print(unique_ids)\n"
   ]
  },
  {
   "cell_type": "code",
   "execution_count": 3,
   "id": "e6d45289-d9a2-4be0-bcee-bc892c654d0b",
   "metadata": {},
   "outputs": [],
   "source": [
    "import itertools"
   ]
  },
  {
   "cell_type": "code",
   "execution_count": 4,
   "id": "6898cd49-d38b-4cb3-a314-55ebb4491dc8",
   "metadata": {},
   "outputs": [],
   "source": [
    "#ID_material: 120010970 \n",
    "#Best SARIMA parameters: (1, 0, 2) (1, 0, 0, 7)\n",
    "#Stationary\n",
    "#Seasonal: Weekly\n"
   ]
  },
  {
   "cell_type": "code",
   "execution_count": 56,
   "id": "6a49a9ca-f5a1-491f-a4e9-5f08916d145a",
   "metadata": {},
   "outputs": [
    {
     "name": "stdout",
     "output_type": "stream",
     "text": [
      "Forecast: 183    1124.734283\n",
      "184    1157.552880\n",
      "Name: predicted_mean, dtype: float64\n",
      "MAE: 126.35641825153277\n",
      "MSE: 22541.646285490126\n",
      "RMSE: 150.13875677349313\n",
      "MAPE: 9.968948185525269\n"
     ]
    },
    {
     "name": "stderr",
     "output_type": "stream",
     "text": [
      "/Users/jungo/opt/anaconda3/lib/python3.9/site-packages/statsmodels/tsa/base/tsa_model.py:471: ValueWarning: A date index has been provided, but it has no associated frequency information and so will be ignored when e.g. forecasting.\n",
      "  self._init_dates(dates, freq)\n",
      "/Users/jungo/opt/anaconda3/lib/python3.9/site-packages/statsmodels/tsa/base/tsa_model.py:471: ValueWarning: A date index has been provided, but it has no associated frequency information and so will be ignored when e.g. forecasting.\n",
      "  self._init_dates(dates, freq)\n",
      "/Users/jungo/opt/anaconda3/lib/python3.9/site-packages/statsmodels/tsa/base/tsa_model.py:471: ValueWarning: A date index has been provided, but it has no associated frequency information and so will be ignored when e.g. forecasting.\n",
      "  self._init_dates(dates, freq)\n",
      "/Users/jungo/opt/anaconda3/lib/python3.9/site-packages/statsmodels/tsa/base/tsa_model.py:834: ValueWarning: No supported index is available. Prediction results will be given with an integer index beginning at `start`.\n",
      "  return get_prediction_index(\n"
     ]
    }
   ],
   "source": [
    "import pandas as pd\n",
    "from statsmodels.tsa.arima.model import ARIMA\n",
    "from sklearn.metrics import mean_absolute_error, mean_squared_error\n",
    "\n",
    "#Read the data from the Excel file\n",
    "\n",
    "data = pd.read_excel('Demand_Forecast_dataset.xlsx.xlsx')\n",
    "\n",
    "#Exclude zero values from the data\n",
    "\n",
    "data_without_zeros = data[data['Units'] != 0]\n",
    "\n",
    "#Filter the data for a specific ID\n",
    "\n",
    "specific_id = 120010970\n",
    "data_specific_id = data_without_zeros[data_without_zeros['ID_material'] == specific_id]\n",
    "\n",
    "#Convert the index to DatetimeIndex\n",
    "\n",
    "data_specific_id.index = pd.to_datetime(data_specific_id.index)\n",
    "\n",
    "#Fit the ARIMA model\n",
    "\n",
    "model = ARIMA(data_specific_id['Units'], order=(1, 0, 2), seasonal_order=(1, 0, 0, 7))\n",
    "model_fit = model.fit()\n",
    "\n",
    "#Forecast for the next two months\n",
    "\n",
    "forecast = model_fit.forecast(steps=2)\n",
    "\n",
    "#Get the predicted mean values\n",
    "\n",
    "pred_mean = forecast\n",
    "\n",
    "#Calculate MAE (Mean Absolute Error)\n",
    "\n",
    "mae = mean_absolute_error(data_specific_id['Units'][-2:], pred_mean)\n",
    "\n",
    "#Calculate MSE (Mean Squared Error)\n",
    "\n",
    "mse = mean_squared_error(data_specific_id['Units'][-2:], pred_mean)\n",
    "\n",
    "#Calculate RMSE (Root Mean Squared Error)\n",
    "\n",
    "rmse = mean_squared_error(data_specific_id['Units'][-2:], pred_mean, squared=False)\n",
    "\n",
    "#Calculate MAPE (Mean Absolute Percentage Error)\n",
    "\n",
    "mape = 100 * mae / data_specific_id['Units'][-2:].mean()\n",
    "\n",
    "\n",
    "#Print the forecasted values and evaluation metrics\n",
    "\n",
    "print(\"Forecast:\", pred_mean)\n",
    "print(\"MAE:\", mae)\n",
    "print(\"MSE:\", mse)\n",
    "print(\"RMSE:\", rmse)\n",
    "print(\"MAPE:\", mape)"
   ]
  },
  {
   "cell_type": "code",
   "execution_count": 54,
   "id": "ec2ef0e7-28b3-4be6-a5c6-7900bbc03933",
   "metadata": {},
   "outputs": [
    {
     "name": "stdout",
     "output_type": "stream",
     "text": [
      "Actual values for Material ID 120010970:\n",
      "[1170. 1365.]\n"
     ]
    }
   ],
   "source": [
    "import pandas as pd\n",
    "\n",
    "# Load the data from Excel file\n",
    "data = pd.read_excel('Demand_Forecast_dataset.xlsx.xlsx')\n",
    "\n",
    "# Filter the data for Material ID 120010970\n",
    "material_data = data[data['ID_material'] == 120010970]\n",
    "\n",
    "# Extract the actual values for the forecasted periods\n",
    "actual_values = material_data.tail(2)['Units'].values\n",
    "\n",
    "# Print the actual values\n",
    "print(\"Actual values for Material ID 120010970:\")\n",
    "print(actual_values)"
   ]
  },
  {
   "cell_type": "code",
   "execution_count": 55,
   "id": "1d984020-95e4-49b1-bed6-c1968a1d5bef",
   "metadata": {},
   "outputs": [
    {
     "name": "stdout",
     "output_type": "stream",
     "text": [
      "Accuracy for Material ID 120010970: 90.47%\n"
     ]
    }
   ],
   "source": [
    "import numpy as np\n",
    "\n",
    "# Filter out zero values from actual values and forecast values\n",
    "non_zero_indices = actual_values != 0\n",
    "actual_values_non_zero = actual_values[non_zero_indices]\n",
    "forecast_values_non_zero = forecast[non_zero_indices]\n",
    "\n",
    "# Calculate the percentage error\n",
    "percentage_error = (actual_values_non_zero - forecast_values_non_zero) / actual_values_non_zero * 100\n",
    "\n",
    "# Calculate the accuracy percentage\n",
    "accuracy = 100 - np.mean(np.abs(percentage_error))\n",
    "\n",
    "# Print the accuracy percentage\n",
    "print(\"Accuracy for Material ID 120010970: {:.2f}%\".format(accuracy))"
   ]
  },
  {
   "cell_type": "code",
   "execution_count": null,
   "id": "7da01feb-a1ab-4a94-b864-d78472d6a809",
   "metadata": {},
   "outputs": [],
   "source": [
    "#something that have almost the same production throughout the years"
   ]
  },
  {
   "cell_type": "code",
   "execution_count": 9,
   "id": "b1139850-a0a3-4022-bb61-f281d574c674",
   "metadata": {},
   "outputs": [],
   "source": [
    "##ID_material: 120010566\n",
    "##SARIMA parameters: (0, 1, 2) (0, 0, 0, 7)\n",
    "##Stationary\n",
    "##Seasonal: Weekly"
   ]
  },
  {
   "cell_type": "code",
   "execution_count": 4,
   "id": "794b967d-c8a2-4b22-85c5-6573883d0725",
   "metadata": {},
   "outputs": [
    {
     "name": "stdout",
     "output_type": "stream",
     "text": [
      "Collecting sktime\n",
      "  Downloading sktime-0.19.2-py3-none-any.whl (17.0 MB)\n",
      "\u001b[K     |████████████████████████████████| 17.0 MB 4.4 MB/s eta 0:00:011\n",
      "\u001b[?25hCollecting scikit-base<0.5.0\n",
      "  Downloading scikit_base-0.4.6-py3-none-any.whl (119 kB)\n",
      "\u001b[K     |████████████████████████████████| 119 kB 14.7 MB/s eta 0:00:01\n",
      "\u001b[?25hRequirement already satisfied: packaging in ./opt/anaconda3/lib/python3.9/site-packages (from sktime) (21.3)\n",
      "Collecting deprecated>=1.2.13\n",
      "  Downloading Deprecated-1.2.14-py2.py3-none-any.whl (9.6 kB)\n",
      "Requirement already satisfied: scipy<2.0.0,>=1.2.0 in ./opt/anaconda3/lib/python3.9/site-packages (from sktime) (1.7.3)\n",
      "Requirement already satisfied: numpy<1.25,>=1.21.0 in ./opt/anaconda3/lib/python3.9/site-packages (from sktime) (1.22.4)\n",
      "Requirement already satisfied: pandas<2.1.0,>=1.1.0 in ./opt/anaconda3/lib/python3.9/site-packages (from sktime) (1.5.3)\n",
      "Requirement already satisfied: scikit-learn<1.3.0,>=0.24.0 in ./opt/anaconda3/lib/python3.9/site-packages (from sktime) (1.2.1)\n",
      "Requirement already satisfied: wrapt<2,>=1.10 in ./opt/anaconda3/lib/python3.9/site-packages (from deprecated>=1.2.13->sktime) (1.12.1)\n",
      "Requirement already satisfied: pytz>=2020.1 in ./opt/anaconda3/lib/python3.9/site-packages (from pandas<2.1.0,>=1.1.0->sktime) (2022.7)\n",
      "Requirement already satisfied: python-dateutil>=2.8.1 in ./opt/anaconda3/lib/python3.9/site-packages (from pandas<2.1.0,>=1.1.0->sktime) (2.8.2)\n",
      "Requirement already satisfied: six>=1.5 in ./opt/anaconda3/lib/python3.9/site-packages (from python-dateutil>=2.8.1->pandas<2.1.0,>=1.1.0->sktime) (1.16.0)\n",
      "Requirement already satisfied: threadpoolctl>=2.0.0 in ./opt/anaconda3/lib/python3.9/site-packages (from scikit-learn<1.3.0,>=0.24.0->sktime) (2.2.0)\n",
      "Requirement already satisfied: joblib>=1.1.1 in ./opt/anaconda3/lib/python3.9/site-packages (from scikit-learn<1.3.0,>=0.24.0->sktime) (1.2.0)\n",
      "Requirement already satisfied: pyparsing!=3.0.5,>=2.0.2 in ./opt/anaconda3/lib/python3.9/site-packages (from packaging->sktime) (3.0.4)\n",
      "Installing collected packages: scikit-base, deprecated, sktime\n",
      "Successfully installed deprecated-1.2.14 scikit-base-0.4.6 sktime-0.19.2\n"
     ]
    }
   ],
   "source": [
    "!pip install sktime"
   ]
  },
  {
   "cell_type": "code",
   "execution_count": 13,
   "id": "329c4fce-aae1-4341-8cbd-e791d73ce079",
   "metadata": {},
   "outputs": [
    {
     "name": "stdout",
     "output_type": "stream",
     "text": [
      "Forecast: 210    2081.300483\n",
      "211    3202.554395\n",
      "Name: predicted_mean, dtype: float64\n",
      "MAE: 3878.626956287726\n",
      "MSE: 19124440.21786662\n",
      "RMSE: 4373.149919436403\n",
      "MAPE: 83.19663140900313\n"
     ]
    },
    {
     "name": "stderr",
     "output_type": "stream",
     "text": [
      "/Users/jungo/opt/anaconda3/lib/python3.9/site-packages/statsmodels/tsa/base/tsa_model.py:471: ValueWarning: A date index has been provided, but it has no associated frequency information and so will be ignored when e.g. forecasting.\n",
      "  self._init_dates(dates, freq)\n",
      "/Users/jungo/opt/anaconda3/lib/python3.9/site-packages/statsmodels/tsa/base/tsa_model.py:471: ValueWarning: A date index has been provided, but it has no associated frequency information and so will be ignored when e.g. forecasting.\n",
      "  self._init_dates(dates, freq)\n",
      "/Users/jungo/opt/anaconda3/lib/python3.9/site-packages/statsmodels/tsa/base/tsa_model.py:471: ValueWarning: A date index has been provided, but it has no associated frequency information and so will be ignored when e.g. forecasting.\n",
      "  self._init_dates(dates, freq)\n",
      "/Users/jungo/opt/anaconda3/lib/python3.9/site-packages/statsmodels/tsa/base/tsa_model.py:834: ValueWarning: No supported index is available. Prediction results will be given with an integer index beginning at `start`.\n",
      "  return get_prediction_index(\n"
     ]
    }
   ],
   "source": [
    "import pandas as pd\n",
    "from statsmodels.tsa.arima.model import ARIMA\n",
    "from sklearn.metrics import mean_absolute_error, mean_squared_error\n",
    "from sklearn.model_selection import train_test_split\n",
    "\n",
    "# Read the data from the Excel file\n",
    "data = pd.read_excel('Demand_Forecast_dataset.xlsx.xlsx')\n",
    "\n",
    "# Exclude zero values from the data\n",
    "data_without_zeros = data[data['Units'] != 0]\n",
    "\n",
    "# Filter the data for a specific ID\n",
    "specific_id = 120010566\n",
    "data_specific_id = data_without_zeros[data_without_zeros['ID_material'] == specific_id]\n",
    "\n",
    "# Convert the index to DatetimeIndex\n",
    "data_specific_id.index = pd.to_datetime(data_specific_id.index)\n",
    "\n",
    "# Fit the ARIMA model\n",
    "model = ARIMA(data_specific_id['Units'], order=(0, 1, 2), seasonal_order=(0, 0, 0, 7))\n",
    "model_fit = model.fit()\n",
    "\n",
    "# Forecast for the next two months\n",
    "forecast = model_fit.forecast(steps=2)\n",
    "\n",
    "# Get the predicted mean values\n",
    "pred_mean = forecast\n",
    "\n",
    "# Calculate MAE (Mean Absolute Error)\n",
    "mae = mean_absolute_error(data_specific_id['Units'][-2:], pred_mean)\n",
    "\n",
    "# Calculate MSE (Mean Squared Error)\n",
    "mse = mean_squared_error(data_specific_id['Units'][-2:], pred_mean)\n",
    "\n",
    "# Calculate RMSE (Root Mean Squared Error)\n",
    "rmse = mean_squared_error(data_specific_id['Units'][-2:], pred_mean, squared=False)\n",
    "\n",
    "# Calculate MAPE (Mean Absolute Percentage Error)\n",
    "mape = 100 * mae / data_specific_id['Units'][-2:].mean()\n",
    "\n",
    "# Print the forecasted values and evaluation metrics\n",
    "print(\"Forecast:\", pred_mean)\n",
    "print(\"MAE:\", mae)\n",
    "print(\"MSE:\", mse)\n",
    "print(\"RMSE:\", rmse)\n",
    "print(\"MAPE:\", mape)\n",
    "\n"
   ]
  },
  {
   "cell_type": "code",
   "execution_count": 47,
   "id": "df1adca5-a7be-4686-a374-876bbc7e81b4",
   "metadata": {
    "tags": []
   },
   "outputs": [
    {
     "name": "stdout",
     "output_type": "stream",
     "text": [
      "Forecast:\n",
      "218    2399.091702\n",
      "219    3087.892328\n",
      "Name: predicted_mean, dtype: float64\n",
      "MAE: 2743.492014975469\n",
      "MSE: 7645360.011865793\n",
      "RMSE: 2765.0244143344908\n",
      "MAPE: inf\n"
     ]
    },
    {
     "name": "stderr",
     "output_type": "stream",
     "text": [
      "/var/folders/jh/_nvfnb6141n46ymf71c6nj500000gn/T/ipykernel_692/3164975453.py:13: SettingWithCopyWarning: \n",
      "A value is trying to be set on a copy of a slice from a DataFrame.\n",
      "Try using .loc[row_indexer,col_indexer] = value instead\n",
      "\n",
      "See the caveats in the documentation: https://pandas.pydata.org/pandas-docs/stable/user_guide/indexing.html#returning-a-view-versus-a-copy\n",
      "  data_specific_id[['year', 'week']] = data_specific_id['year_week'].str.split('-', expand=True)\n",
      "/var/folders/jh/_nvfnb6141n46ymf71c6nj500000gn/T/ipykernel_692/3164975453.py:13: SettingWithCopyWarning: \n",
      "A value is trying to be set on a copy of a slice from a DataFrame.\n",
      "Try using .loc[row_indexer,col_indexer] = value instead\n",
      "\n",
      "See the caveats in the documentation: https://pandas.pydata.org/pandas-docs/stable/user_guide/indexing.html#returning-a-view-versus-a-copy\n",
      "  data_specific_id[['year', 'week']] = data_specific_id['year_week'].str.split('-', expand=True)\n",
      "/var/folders/jh/_nvfnb6141n46ymf71c6nj500000gn/T/ipykernel_692/3164975453.py:16: SettingWithCopyWarning: \n",
      "A value is trying to be set on a copy of a slice from a DataFrame.\n",
      "Try using .loc[row_indexer,col_indexer] = value instead\n",
      "\n",
      "See the caveats in the documentation: https://pandas.pydata.org/pandas-docs/stable/user_guide/indexing.html#returning-a-view-versus-a-copy\n",
      "  data_specific_id['year'] = data_specific_id['year'].astype(int)\n",
      "/var/folders/jh/_nvfnb6141n46ymf71c6nj500000gn/T/ipykernel_692/3164975453.py:17: SettingWithCopyWarning: \n",
      "A value is trying to be set on a copy of a slice from a DataFrame.\n",
      "Try using .loc[row_indexer,col_indexer] = value instead\n",
      "\n",
      "See the caveats in the documentation: https://pandas.pydata.org/pandas-docs/stable/user_guide/indexing.html#returning-a-view-versus-a-copy\n",
      "  data_specific_id['week'] = data_specific_id['week'].astype(int)\n",
      "/var/folders/jh/_nvfnb6141n46ymf71c6nj500000gn/T/ipykernel_692/3164975453.py:20: SettingWithCopyWarning: \n",
      "A value is trying to be set on a copy of a slice from a DataFrame.\n",
      "Try using .loc[row_indexer,col_indexer] = value instead\n",
      "\n",
      "See the caveats in the documentation: https://pandas.pydata.org/pandas-docs/stable/user_guide/indexing.html#returning-a-view-versus-a-copy\n",
      "  data_specific_id['week_start'] = pd.to_datetime(data_specific_id['year'].astype(str) + data_specific_id['week'].astype(str) + '1', format='%Y%W%w')\n",
      "/Users/jungo/opt/anaconda3/lib/python3.9/site-packages/statsmodels/tsa/base/tsa_model.py:471: ValueWarning: A date index has been provided, but it has no associated frequency information and so will be ignored when e.g. forecasting.\n",
      "  self._init_dates(dates, freq)\n",
      "/Users/jungo/opt/anaconda3/lib/python3.9/site-packages/statsmodels/tsa/base/tsa_model.py:471: ValueWarning: A date index has been provided, but it has no associated frequency information and so will be ignored when e.g. forecasting.\n",
      "  self._init_dates(dates, freq)\n",
      "/Users/jungo/opt/anaconda3/lib/python3.9/site-packages/statsmodels/tsa/base/tsa_model.py:471: ValueWarning: A date index has been provided, but it has no associated frequency information and so will be ignored when e.g. forecasting.\n",
      "  self._init_dates(dates, freq)\n",
      "/Users/jungo/opt/anaconda3/lib/python3.9/site-packages/statsmodels/tsa/base/tsa_model.py:834: ValueWarning: No supported index is available. Prediction results will be given with an integer index beginning at `start`.\n",
      "  return get_prediction_index(\n",
      "/var/folders/jh/_nvfnb6141n46ymf71c6nj500000gn/T/ipykernel_692/3164975453.py:45: RuntimeWarning: divide by zero encountered in double_scalars\n",
      "  mape = 100 * mae / data_specific_id['Units'][-2:].mean()\n"
     ]
    }
   ],
   "source": [
    "import pandas as pd\n",
    "from statsmodels.tsa.arima.model import ARIMA\n",
    "from sklearn.metrics import mean_absolute_error, mean_squared_error\n",
    "\n",
    "# Read the data from the Excel file\n",
    "data = pd.read_excel('Demand_Forecast_dataset.xlsx.xlsx')\n",
    "\n",
    "# Filter the data for a specific ID\n",
    "specific_id = 120010566\n",
    "data_specific_id = data[data['ID_material'] == specific_id]\n",
    "\n",
    "# Split the \"year_week\" column into separate year and week columns\n",
    "data_specific_id[['year', 'week']] = data_specific_id['year_week'].str.split('-', expand=True)\n",
    "\n",
    "# Convert the year and week columns to integers\n",
    "data_specific_id['year'] = data_specific_id['year'].astype(int)\n",
    "data_specific_id['week'] = data_specific_id['week'].astype(int)\n",
    "\n",
    "# Create a new column with the first day of the week\n",
    "data_specific_id['week_start'] = pd.to_datetime(data_specific_id['year'].astype(str) + data_specific_id['week'].astype(str) + '1', format='%Y%W%w')\n",
    "\n",
    "# Set the \"week_start\" column as the index\n",
    "data_specific_id.set_index('week_start', inplace=True)\n",
    "\n",
    "# Fit the ARIMA model\n",
    "model = ARIMA(data_specific_id['Units'], order=(0, 1, 2), seasonal_order=(0, 0, 0, 7))\n",
    "model_fit = model.fit()\n",
    "\n",
    "# Forecast for the next two months\n",
    "forecast = model_fit.forecast(steps=2)\n",
    "\n",
    "# Get the predicted mean values\n",
    "pred_mean = forecast\n",
    "\n",
    "# Calculate MAE (Mean Absolute Error)\n",
    "mae = mean_absolute_error(data_specific_id['Units'][-2:], pred_mean)\n",
    "\n",
    "# Calculate MSE (Mean Squared Error)\n",
    "mse = mean_squared_error(data_specific_id['Units'][-2:], pred_mean)\n",
    "\n",
    "# Calculate RMSE (Root Mean Squared Error)\n",
    "rmse = mean_squared_error(data_specific_id['Units'][-2:], pred_mean, squared=False)\n",
    "\n",
    "# Calculate MAPE (Mean Absolute Percentage Error)\n",
    "mape = 100 * mae / data_specific_id['Units'][-2:].mean()\n",
    "\n",
    "# Print the forecasted values and evaluation metrics\n",
    "print(\"Forecast:\")\n",
    "print(pred_mean)\n",
    "print(\"MAE:\", mae)\n",
    "print(\"MSE:\", mse)\n",
    "print(\"RMSE:\", rmse)\n",
    "print(\"MAPE:\", mape)\n",
    "\n"
   ]
  },
  {
   "cell_type": "code",
   "execution_count": 14,
   "id": "07eba11f-6090-41ca-bcfc-92a1b3fb540a",
   "metadata": {},
   "outputs": [
    {
     "name": "stdout",
     "output_type": "stream",
     "text": [
      "Actual values for Material ID 120010566:\n",
      "[0. 0.]\n"
     ]
    }
   ],
   "source": [
    "import pandas as pd\n",
    "\n",
    "# Load the data from Excel file\n",
    "data = pd.read_excel('Demand_Forecast_dataset.xlsx.xlsx')\n",
    "\n",
    "# Filter the data for Material ID 120010566\n",
    "material_data = data[data['ID_material'] == 120010566]\n",
    "\n",
    "# Extract the actual values for the forecasted periods\n",
    "actual_values = material_data.tail(2)['Units'].values\n",
    "\n",
    "# Print the actual values\n",
    "print(\"Actual values for Material ID 120010566:\")\n",
    "print(actual_values)"
   ]
  },
  {
   "cell_type": "code",
   "execution_count": 15,
   "id": "4d5ed2bc-ffb3-4d34-bb2a-ac48bf6d3422",
   "metadata": {},
   "outputs": [
    {
     "name": "stdout",
     "output_type": "stream",
     "text": [
      "Accuracy for Material ID 120010566: nan%\n"
     ]
    }
   ],
   "source": [
    "import numpy as np\n",
    "\n",
    "# Filter out zero values from actual values and forecast values\n",
    "non_zero_indices = actual_values != 0\n",
    "actual_values_non_zero = actual_values[non_zero_indices]\n",
    "forecast_values_non_zero = forecast[non_zero_indices]\n",
    "\n",
    "# Calculate the percentage error\n",
    "percentage_error = (actual_values_non_zero - forecast_values_non_zero) / actual_values_non_zero * 100\n",
    "\n",
    "# Calculate the accuracy percentage\n",
    "accuracy = 100 - np.mean(np.abs(percentage_error))\n",
    "\n",
    "# Print the accuracy percentage\n",
    "print(\"Accuracy for Material ID 120010566: {:.2f}%\".format(accuracy))"
   ]
  },
  {
   "cell_type": "code",
   "execution_count": 12,
   "id": "a8105da4-0769-48a7-9945-19b8fba137b5",
   "metadata": {},
   "outputs": [],
   "source": [
    "##ID_material: 120010342\n",
    "##SARIMA parameters: (0, 0, 2) (1, 1, 1, 7)\n",
    "##Stationary\n",
    "##Seasonal: Weekly\n"
   ]
  },
  {
   "cell_type": "code",
   "execution_count": 16,
   "id": "f9ec210e-cfe8-4ade-9d30-823bb56b0388",
   "metadata": {
    "tags": []
   },
   "outputs": [
    {
     "name": "stderr",
     "output_type": "stream",
     "text": [
      "/Users/jungo/opt/anaconda3/lib/python3.9/site-packages/statsmodels/tsa/base/tsa_model.py:471: ValueWarning: A date index has been provided, but it has no associated frequency information and so will be ignored when e.g. forecasting.\n",
      "  self._init_dates(dates, freq)\n",
      "/Users/jungo/opt/anaconda3/lib/python3.9/site-packages/statsmodels/tsa/base/tsa_model.py:471: ValueWarning: A date index has been provided, but it has no associated frequency information and so will be ignored when e.g. forecasting.\n",
      "  self._init_dates(dates, freq)\n",
      "/Users/jungo/opt/anaconda3/lib/python3.9/site-packages/statsmodels/tsa/base/tsa_model.py:471: ValueWarning: A date index has been provided, but it has no associated frequency information and so will be ignored when e.g. forecasting.\n",
      "  self._init_dates(dates, freq)\n"
     ]
    },
    {
     "name": "stdout",
     "output_type": "stream",
     "text": [
      "Forecast: 217    1053.084472\n",
      "218     661.094423\n",
      "Name: predicted_mean, dtype: float64\n",
      "MAE: 375.9950248052544\n",
      "MSE: 147315.04156472388\n",
      "RMSE: 383.8164164867416\n",
      "MAPE: 48.204490359648\n"
     ]
    },
    {
     "name": "stderr",
     "output_type": "stream",
     "text": [
      "/Users/jungo/opt/anaconda3/lib/python3.9/site-packages/statsmodels/tsa/base/tsa_model.py:834: ValueWarning: No supported index is available. Prediction results will be given with an integer index beginning at `start`.\n",
      "  return get_prediction_index(\n"
     ]
    }
   ],
   "source": [
    "import pandas as pd\n",
    "from statsmodels.tsa.arima.model import ARIMA\n",
    "from sklearn.metrics import mean_absolute_error, mean_squared_error\n",
    "from sklearn.model_selection import train_test_split\n",
    "\n",
    "# Read the data from the Excel file\n",
    "data = pd.read_excel('Demand_Forecast_dataset.xlsx.xlsx')\n",
    "\n",
    "# Exclude zero values from the data\n",
    "data_without_zeros = data[data['Units'] != 0]\n",
    "\n",
    "# Filter the data for a specific ID\n",
    "specific_id = 120010342\n",
    "data_specific_id = data_without_zeros[data_without_zeros['ID_material'] == specific_id]\n",
    "\n",
    "# Convert the index to DatetimeIndex\n",
    "data_specific_id.index = pd.to_datetime(data_specific_id.index)\n",
    "\n",
    "# Fit the ARIMA model\n",
    "model = ARIMA(data_specific_id['Units'], order=(0, 0, 2), seasonal_order=(1, 1, 1, 7))\n",
    "model_fit = model.fit()\n",
    "\n",
    "# Forecast for the next two months\n",
    "forecast = model_fit.forecast(steps=2)\n",
    "\n",
    "# Get the predicted mean values\n",
    "pred_mean = forecast\n",
    "\n",
    "# Calculate MAE (Mean Absolute Error)\n",
    "mae = mean_absolute_error(data_specific_id['Units'][-2:], pred_mean)\n",
    "\n",
    "# Calculate MSE (Mean Squared Error)\n",
    "mse = mean_squared_error(data_specific_id['Units'][-2:], pred_mean)\n",
    "\n",
    "# Calculate RMSE (Root Mean Squared Error)\n",
    "rmse = mean_squared_error(data_specific_id['Units'][-2:], pred_mean, squared=False)\n",
    "\n",
    "# Calculate MAPE (Mean Absolute Percentage Error)\n",
    "mape = 100 * mae / data_specific_id['Units'][-2:].mean()\n",
    "\n",
    "# Print the forecasted values and evaluation metrics\n",
    "print(\"Forecast:\", pred_mean)\n",
    "print(\"MAE:\", mae)\n",
    "print(\"MSE:\", mse)\n",
    "print(\"RMSE:\", rmse)\n",
    "print(\"MAPE:\", mape)\n",
    "\n",
    "\n"
   ]
  },
  {
   "cell_type": "code",
   "execution_count": 17,
   "id": "3d6be92d-e8b0-4a0c-aace-e6e3a24e9da3",
   "metadata": {},
   "outputs": [
    {
     "name": "stdout",
     "output_type": "stream",
     "text": [
      "Actual values for Material ID 120010342:\n",
      "[600. 960.]\n"
     ]
    }
   ],
   "source": [
    "import pandas as pd\n",
    "\n",
    "# Load the data from Excel file\n",
    "data = pd.read_excel('Demand_Forecast_dataset.xlsx.xlsx')\n",
    "\n",
    "# Filter the data for Material ID 120010566\n",
    "material_data = data[data['ID_material'] == 120010342]\n",
    "\n",
    "# Extract the actual values for the forecasted periods\n",
    "actual_values = material_data.tail(2)['Units'].values\n",
    "\n",
    "# Print the actual values\n",
    "print(\"Actual values for Material ID 120010342:\")\n",
    "print(actual_values)"
   ]
  },
  {
   "cell_type": "code",
   "execution_count": 18,
   "id": "58c2dc20-8480-441e-a7a8-ebd47aa97bc0",
   "metadata": {},
   "outputs": [
    {
     "name": "stdout",
     "output_type": "stream",
     "text": [
      "Accuracy for Material ID 120010342: 46.67%\n"
     ]
    }
   ],
   "source": [
    "import numpy as np\n",
    "\n",
    "# Filter out zero values from actual values and forecast values\n",
    "non_zero_indices = actual_values != 0\n",
    "actual_values_non_zero = actual_values[non_zero_indices]\n",
    "forecast_values_non_zero = forecast[non_zero_indices]\n",
    "\n",
    "# Calculate the percentage error\n",
    "percentage_error = (actual_values_non_zero - forecast_values_non_zero) / actual_values_non_zero * 100\n",
    "\n",
    "# Calculate the accuracy percentage\n",
    "accuracy = 100 - np.mean(np.abs(percentage_error))\n",
    "\n",
    "# Print the accuracy percentage\n",
    "print(\"Accuracy for Material ID 120010342: {:.2f}%\".format(accuracy))"
   ]
  },
  {
   "cell_type": "code",
   "execution_count": 20,
   "id": "942ad22e-dbff-4e68-ba75-87b452ee5272",
   "metadata": {},
   "outputs": [],
   "source": [
    "#ID_material: 120009814\n",
    "#SARIMA parameters: (2, 1, 2) (0, 0, 0, 7)\n",
    "#Stationary\n",
    "#Seasonal: Weekly"
   ]
  },
  {
   "cell_type": "code",
   "execution_count": 19,
   "id": "98f9db1c-528e-4ac6-94a1-352fc0d7e6e0",
   "metadata": {},
   "outputs": [
    {
     "name": "stdout",
     "output_type": "stream",
     "text": [
      "Forecast: 202    456.280024\n",
      "203    486.035728\n",
      "Name: predicted_mean, dtype: float64\n",
      "MAE: 237.15787612086606\n",
      "MSE: 60228.26377534495\n",
      "RMSE: 245.4144734430815\n",
      "MAPE: 101.34951970977183\n"
     ]
    },
    {
     "name": "stderr",
     "output_type": "stream",
     "text": [
      "/Users/jungo/opt/anaconda3/lib/python3.9/site-packages/statsmodels/tsa/base/tsa_model.py:471: ValueWarning: A date index has been provided, but it has no associated frequency information and so will be ignored when e.g. forecasting.\n",
      "  self._init_dates(dates, freq)\n",
      "/Users/jungo/opt/anaconda3/lib/python3.9/site-packages/statsmodels/tsa/base/tsa_model.py:471: ValueWarning: A date index has been provided, but it has no associated frequency information and so will be ignored when e.g. forecasting.\n",
      "  self._init_dates(dates, freq)\n",
      "/Users/jungo/opt/anaconda3/lib/python3.9/site-packages/statsmodels/tsa/base/tsa_model.py:471: ValueWarning: A date index has been provided, but it has no associated frequency information and so will be ignored when e.g. forecasting.\n",
      "  self._init_dates(dates, freq)\n",
      "/Users/jungo/opt/anaconda3/lib/python3.9/site-packages/statsmodels/tsa/statespace/sarimax.py:966: UserWarning: Non-stationary starting autoregressive parameters found. Using zeros as starting parameters.\n",
      "  warn('Non-stationary starting autoregressive parameters'\n",
      "/Users/jungo/opt/anaconda3/lib/python3.9/site-packages/statsmodels/tsa/statespace/sarimax.py:978: UserWarning: Non-invertible starting MA parameters found. Using zeros as starting parameters.\n",
      "  warn('Non-invertible starting MA parameters found.'\n",
      "/Users/jungo/opt/anaconda3/lib/python3.9/site-packages/statsmodels/tsa/base/tsa_model.py:834: ValueWarning: No supported index is available. Prediction results will be given with an integer index beginning at `start`.\n",
      "  return get_prediction_index(\n"
     ]
    }
   ],
   "source": [
    "import pandas as pd\n",
    "from statsmodels.tsa.arima.model import ARIMA\n",
    "from sklearn.metrics import mean_absolute_error, mean_squared_error\n",
    "from sklearn.model_selection import train_test_split\n",
    "\n",
    "# Read the data from the Excel file\n",
    "data = pd.read_excel('Demand_Forecast_dataset.xlsx.xlsx')\n",
    "\n",
    "# Exclude zero values from the data\n",
    "data_without_zeros = data[data['Units'] != 0]\n",
    "\n",
    "# Filter the data for a specific ID\n",
    "specific_id = 120009814\n",
    "data_specific_id = data_without_zeros[data_without_zeros['ID_material'] == specific_id]\n",
    "\n",
    "# Convert the index to DatetimeIndex\n",
    "data_specific_id.index = pd.to_datetime(data_specific_id.index)\n",
    "\n",
    "# Fit the ARIMA model\n",
    "model = ARIMA(data_specific_id['Units'], order=(2, 1, 2), seasonal_order=(0, 0, 0, 7))\n",
    "model_fit = model.fit()\n",
    "\n",
    "# Forecast for the next two months\n",
    "forecast = model_fit.forecast(steps=2)\n",
    "\n",
    "# Get the predicted mean values\n",
    "pred_mean = forecast\n",
    "\n",
    "# Calculate MAE (Mean Absolute Error)\n",
    "mae = mean_absolute_error(data_specific_id['Units'][-2:], pred_mean)\n",
    "\n",
    "# Calculate MSE (Mean Squared Error)\n",
    "mse = mean_squared_error(data_specific_id['Units'][-2:], pred_mean)\n",
    "\n",
    "# Calculate RMSE (Root Mean Squared Error)\n",
    "rmse = mean_squared_error(data_specific_id['Units'][-2:], pred_mean, squared=False)\n",
    "\n",
    "# Calculate MAPE (Mean Absolute Percentage Error)\n",
    "mape = 100 * mae / data_specific_id['Units'][-2:].mean()\n",
    "\n",
    "# Print the forecasted values and evaluation metrics\n",
    "print(\"Forecast:\", pred_mean)\n",
    "print(\"MAE:\", mae)\n",
    "print(\"MSE:\", mse)\n",
    "print(\"RMSE:\", rmse)\n",
    "print(\"MAPE:\", mape)"
   ]
  },
  {
   "cell_type": "code",
   "execution_count": 20,
   "id": "1dde0fd8-1fb3-498c-ae28-63b81a2b0a68",
   "metadata": {},
   "outputs": [
    {
     "name": "stdout",
     "output_type": "stream",
     "text": [
      "Actual values for Material ID 120009814:\n",
      "[  0. 312.]\n"
     ]
    }
   ],
   "source": [
    "import pandas as pd\n",
    "\n",
    "# Load the data from Excel file\n",
    "data = pd.read_excel('Demand_Forecast_dataset.xlsx.xlsx')\n",
    "\n",
    "# Filter the data for Material ID 120009814\n",
    "material_data = data[data['ID_material'] == 120009814]\n",
    "\n",
    "# Extract the actual values for the forecasted periods\n",
    "actual_values = material_data.tail(2)['Units'].values\n",
    "\n",
    "# Print the actual values\n",
    "print(\"Actual values for Material ID 120009814:\")\n",
    "print(actual_values)"
   ]
  },
  {
   "cell_type": "code",
   "execution_count": 21,
   "id": "6621e411-b6e2-40b5-ae9f-273321a8c27a",
   "metadata": {},
   "outputs": [
    {
     "name": "stdout",
     "output_type": "stream",
     "text": [
      "Accuracy for Material ID 120009814: 44.22%\n"
     ]
    }
   ],
   "source": [
    "import numpy as np\n",
    "\n",
    "# Filter out zero values from actual values and forecast values\n",
    "non_zero_indices = actual_values != 0\n",
    "actual_values_non_zero = actual_values[non_zero_indices]\n",
    "forecast_values_non_zero = forecast[non_zero_indices]\n",
    "\n",
    "# Calculate the percentage error\n",
    "percentage_error = (actual_values_non_zero - forecast_values_non_zero) / actual_values_non_zero * 100\n",
    "\n",
    "# Calculate the accuracy percentage\n",
    "accuracy = 100 - np.mean(np.abs(percentage_error))\n",
    "\n",
    "# Print the accuracy percentage\n",
    "print(\"Accuracy for Material ID 120009814: {:.2f}%\".format(accuracy))"
   ]
  },
  {
   "cell_type": "code",
   "execution_count": 25,
   "id": "e9e91708-bd8e-4338-92a8-5475e3c957f9",
   "metadata": {},
   "outputs": [],
   "source": [
    "#ID_material: 120009816\n",
    "#SARIMA parameters: (1, 1, 1) (0, 0, 1, 7)\n",
    "#Stationary\n",
    "#Seasonal: Weekly\n"
   ]
  },
  {
   "cell_type": "code",
   "execution_count": 22,
   "id": "d610ad6a-ed2e-4853-8977-3bff051505e7",
   "metadata": {},
   "outputs": [
    {
     "name": "stdout",
     "output_type": "stream",
     "text": [
      "Forecast: 199    820.011146\n",
      "200    773.607491\n",
      "Name: predicted_mean, dtype: float64\n",
      "MAE: 167.2018271787764\n",
      "MSE: 33856.12244475695\n",
      "RMSE: 184.00033273001696\n",
      "MAPE: 23.22247599705228\n"
     ]
    },
    {
     "name": "stderr",
     "output_type": "stream",
     "text": [
      "/Users/jungo/opt/anaconda3/lib/python3.9/site-packages/statsmodels/tsa/base/tsa_model.py:471: ValueWarning: A date index has been provided, but it has no associated frequency information and so will be ignored when e.g. forecasting.\n",
      "  self._init_dates(dates, freq)\n",
      "/Users/jungo/opt/anaconda3/lib/python3.9/site-packages/statsmodels/tsa/base/tsa_model.py:471: ValueWarning: A date index has been provided, but it has no associated frequency information and so will be ignored when e.g. forecasting.\n",
      "  self._init_dates(dates, freq)\n",
      "/Users/jungo/opt/anaconda3/lib/python3.9/site-packages/statsmodels/tsa/base/tsa_model.py:471: ValueWarning: A date index has been provided, but it has no associated frequency information and so will be ignored when e.g. forecasting.\n",
      "  self._init_dates(dates, freq)\n",
      "/Users/jungo/opt/anaconda3/lib/python3.9/site-packages/statsmodels/tsa/base/tsa_model.py:834: ValueWarning: No supported index is available. Prediction results will be given with an integer index beginning at `start`.\n",
      "  return get_prediction_index(\n"
     ]
    }
   ],
   "source": [
    "import pandas as pd\n",
    "from statsmodels.tsa.arima.model import ARIMA\n",
    "from sklearn.metrics import mean_absolute_error, mean_squared_error\n",
    "from sklearn.model_selection import train_test_split\n",
    "\n",
    "# Read the data from the Excel file\n",
    "data = pd.read_excel('Demand_Forecast_dataset.xlsx.xlsx')\n",
    "\n",
    "# Exclude zero values from the data\n",
    "data_without_zeros = data[data['Units'] != 0]\n",
    "\n",
    "# Filter the data for a specific ID\n",
    "specific_id = 120009816\n",
    "data_specific_id = data_without_zeros[data_without_zeros['ID_material'] == specific_id]\n",
    "\n",
    "# Convert the index to DatetimeIndex\n",
    "data_specific_id.index = pd.to_datetime(data_specific_id.index)\n",
    "\n",
    "# Fit the ARIMA model\n",
    "model = ARIMA(data_specific_id['Units'], order=(1, 1, 1), seasonal_order=(0, 0, 1, 7))\n",
    "model_fit = model.fit()\n",
    "\n",
    "# Forecast for the next two months\n",
    "forecast = model_fit.forecast(steps=2)\n",
    "\n",
    "# Get the predicted mean values\n",
    "pred_mean = forecast\n",
    "\n",
    "# Calculate MAE (Mean Absolute Error)\n",
    "mae = mean_absolute_error(data_specific_id['Units'][-2:], pred_mean)\n",
    "\n",
    "# Calculate MSE (Mean Squared Error)\n",
    "mse = mean_squared_error(data_specific_id['Units'][-2:], pred_mean)\n",
    "\n",
    "# Calculate RMSE (Root Mean Squared Error)\n",
    "rmse = mean_squared_error(data_specific_id['Units'][-2:], pred_mean, squared=False)\n",
    "\n",
    "# Calculate MAPE (Mean Absolute Percentage Error)\n",
    "mape = 100 * mae / data_specific_id['Units'][-2:].mean()\n",
    "\n",
    "# Print the forecasted values and evaluation metrics\n",
    "print(\"Forecast:\", pred_mean)\n",
    "print(\"MAE:\", mae)\n",
    "print(\"MSE:\", mse)\n",
    "print(\"RMSE:\", rmse)\n",
    "print(\"MAPE:\", mape)"
   ]
  },
  {
   "cell_type": "code",
   "execution_count": 23,
   "id": "7c709376-8286-41e1-8746-c3466633321b",
   "metadata": {},
   "outputs": [
    {
     "name": "stdout",
     "output_type": "stream",
     "text": [
      "Actual values for Material ID 120009816:\n",
      "[576. 864.]\n"
     ]
    }
   ],
   "source": [
    "import pandas as pd\n",
    "\n",
    "# Load the data from Excel file\n",
    "data = pd.read_excel('Demand_Forecast_dataset.xlsx.xlsx')\n",
    "\n",
    "# Filter the data for Material ID 120009816\n",
    "material_data = data[data['ID_material'] == 120009816]\n",
    "\n",
    "# Extract the actual values for the forecasted periods\n",
    "actual_values = material_data.tail(2)['Units'].values\n",
    "\n",
    "# Print the actual values\n",
    "print(\"Actual values for Material ID 120009816:\")\n",
    "print(actual_values)"
   ]
  },
  {
   "cell_type": "code",
   "execution_count": 24,
   "id": "674c4109-f9b2-4d0d-9baa-0c9ec4278119",
   "metadata": {},
   "outputs": [
    {
     "name": "stdout",
     "output_type": "stream",
     "text": [
      "Accuracy for Material ID 120009816: 73.59%\n"
     ]
    }
   ],
   "source": [
    "import numpy as np\n",
    "\n",
    "# Filter out zero values from actual values and forecast values\n",
    "non_zero_indices = actual_values != 0\n",
    "actual_values_non_zero = actual_values[non_zero_indices]\n",
    "forecast_values_non_zero = forecast[non_zero_indices]\n",
    "\n",
    "# Calculate the percentage error\n",
    "percentage_error = (actual_values_non_zero - forecast_values_non_zero) / actual_values_non_zero * 100\n",
    "\n",
    "# Calculate the accuracy percentage\n",
    "accuracy = 100 - np.mean(np.abs(percentage_error))\n",
    "\n",
    "# Print the accuracy percentage\n",
    "print(\"Accuracy for Material ID 120009816: {:.2f}%\".format(accuracy))"
   ]
  },
  {
   "cell_type": "code",
   "execution_count": 29,
   "id": "aa566ebd-5dc0-4fa4-8463-5d3b28f43dd9",
   "metadata": {},
   "outputs": [],
   "source": [
    "#ID_material: 120014486\n",
    "#SARIMA parameters: (2, 1, 1) (1, 0, 1, 7)\n",
    "#Stationary\n",
    "#Seasonal: Weekly\n"
   ]
  },
  {
   "cell_type": "code",
   "execution_count": 25,
   "id": "c43e8f58-a8d1-49cf-9b25-53c5d7eb3261",
   "metadata": {},
   "outputs": [
    {
     "name": "stderr",
     "output_type": "stream",
     "text": [
      "/Users/jungo/opt/anaconda3/lib/python3.9/site-packages/statsmodels/tsa/base/tsa_model.py:471: ValueWarning: A date index has been provided, but it has no associated frequency information and so will be ignored when e.g. forecasting.\n",
      "  self._init_dates(dates, freq)\n",
      "/Users/jungo/opt/anaconda3/lib/python3.9/site-packages/statsmodels/tsa/base/tsa_model.py:471: ValueWarning: A date index has been provided, but it has no associated frequency information and so will be ignored when e.g. forecasting.\n",
      "  self._init_dates(dates, freq)\n",
      "/Users/jungo/opt/anaconda3/lib/python3.9/site-packages/statsmodels/tsa/base/tsa_model.py:471: ValueWarning: A date index has been provided, but it has no associated frequency information and so will be ignored when e.g. forecasting.\n",
      "  self._init_dates(dates, freq)\n"
     ]
    },
    {
     "name": "stdout",
     "output_type": "stream",
     "text": [
      "Forecast: 250    1827.684769\n",
      "251    1708.641986\n",
      "Name: predicted_mean, dtype: float64\n",
      "MAE: 885.4786083465586\n",
      "MSE: 788583.2851248347\n",
      "RMSE: 888.0221197272255\n",
      "MAPE: 52.05635557592937\n"
     ]
    },
    {
     "name": "stderr",
     "output_type": "stream",
     "text": [
      "/Users/jungo/opt/anaconda3/lib/python3.9/site-packages/statsmodels/base/model.py:604: ConvergenceWarning: Maximum Likelihood optimization failed to converge. Check mle_retvals\n",
      "  warnings.warn(\"Maximum Likelihood optimization failed to \"\n",
      "/Users/jungo/opt/anaconda3/lib/python3.9/site-packages/statsmodels/tsa/base/tsa_model.py:834: ValueWarning: No supported index is available. Prediction results will be given with an integer index beginning at `start`.\n",
      "  return get_prediction_index(\n"
     ]
    }
   ],
   "source": [
    "import pandas as pd\n",
    "from statsmodels.tsa.arima.model import ARIMA\n",
    "from sklearn.metrics import mean_absolute_error, mean_squared_error\n",
    "from sklearn.model_selection import train_test_split\n",
    "\n",
    "# Read the data from the Excel file\n",
    "data = pd.read_excel('Demand_Forecast_dataset.xlsx.xlsx')\n",
    "\n",
    "# Exclude zero values from the data\n",
    "data_without_zeros = data[data['Units'] != 0]\n",
    "\n",
    "# Filter the data for a specific ID\n",
    "specific_id = 120014486\n",
    "data_specific_id = data_without_zeros[data_without_zeros['ID_material'] == specific_id]\n",
    "\n",
    "# Convert the index to DatetimeIndex\n",
    "data_specific_id.index = pd.to_datetime(data_specific_id.index)\n",
    "\n",
    "# Fit the ARIMA model\n",
    "model = ARIMA(data_specific_id['Units'], order=(2, 1, 1), seasonal_order=(1, 0, 1, 7))\n",
    "model_fit = model.fit()\n",
    "\n",
    "# Forecast for the next two months\n",
    "forecast = model_fit.forecast(steps=2)\n",
    "\n",
    "# Get the predicted mean values\n",
    "pred_mean = forecast\n",
    "\n",
    "# Calculate MAE (Mean Absolute Error)\n",
    "mae = mean_absolute_error(data_specific_id['Units'][-2:], pred_mean)\n",
    "\n",
    "# Calculate MSE (Mean Squared Error)\n",
    "mse = mean_squared_error(data_specific_id['Units'][-2:], pred_mean)\n",
    "\n",
    "# Calculate RMSE (Root Mean Squared Error)\n",
    "rmse = mean_squared_error(data_specific_id['Units'][-2:], pred_mean, squared=False)\n",
    "\n",
    "# Calculate MAPE (Mean Absolute Percentage Error)\n",
    "mape = 100 * mae / data_specific_id['Units'][-2:].mean()\n",
    "\n",
    "# Print the forecasted values and evaluation metrics\n",
    "print(\"Forecast:\", pred_mean)\n",
    "print(\"MAE:\", mae)\n",
    "print(\"MSE:\", mse)\n",
    "print(\"RMSE:\", rmse)\n",
    "print(\"MAPE:\", mape)"
   ]
  },
  {
   "cell_type": "code",
   "execution_count": 26,
   "id": "e552707b-ccd8-4cae-a392-1ec1f5464fbf",
   "metadata": {},
   "outputs": [
    {
     "name": "stdout",
     "output_type": "stream",
     "text": [
      "Actual values for Material ID 120014486:\n",
      "[2646.  756.]\n"
     ]
    }
   ],
   "source": [
    "import pandas as pd\n",
    "\n",
    "# Load the data from Excel file\n",
    "data = pd.read_excel('Demand_Forecast_dataset.xlsx.xlsx')\n",
    "\n",
    "# Filter the data for Material ID 120014486\n",
    "material_data = data[data['ID_material'] == 120014486]\n",
    "\n",
    "# Extract the actual values for the forecasted periods\n",
    "actual_values = material_data.tail(2)['Units'].values\n",
    "\n",
    "# Print the actual values\n",
    "print(\"Actual values for Material ID 120014486:\")\n",
    "print(actual_values)"
   ]
  },
  {
   "cell_type": "code",
   "execution_count": 27,
   "id": "94aafd7e-2b01-434c-862c-d118889182ee",
   "metadata": {},
   "outputs": [
    {
     "name": "stdout",
     "output_type": "stream",
     "text": [
      "Accuracy for Material ID 120014486: 21.53%\n"
     ]
    }
   ],
   "source": [
    "import numpy as np\n",
    "\n",
    "# Filter out zero values from actual values and forecast values\n",
    "non_zero_indices = actual_values != 0\n",
    "actual_values_non_zero = actual_values[non_zero_indices]\n",
    "forecast_values_non_zero = forecast[non_zero_indices]\n",
    "\n",
    "# Calculate the percentage error\n",
    "percentage_error = (actual_values_non_zero - forecast_values_non_zero) / actual_values_non_zero * 100\n",
    "\n",
    "# Calculate the accuracy percentage\n",
    "accuracy = 100 - np.mean(np.abs(percentage_error))\n",
    "\n",
    "# Print the accuracy percentage\n",
    "print(\"Accuracy for Material ID 120014486: {:.2f}%\".format(accuracy))"
   ]
  },
  {
   "cell_type": "code",
   "execution_count": 33,
   "id": "60b3e853-0438-4cf7-aa38-89e71a95eb5c",
   "metadata": {},
   "outputs": [],
   "source": [
    "#ID_material: 120014488\n",
    "#SARIMA parameters: (0, 1, 1) (1, 0, 1, 7)\n",
    "#Stationary\n",
    "#Seasonal: Weekly"
   ]
  },
  {
   "cell_type": "code",
   "execution_count": 28,
   "id": "c04b5057-6e1d-42a1-881f-bd1a50deb081",
   "metadata": {},
   "outputs": [
    {
     "name": "stdout",
     "output_type": "stream",
     "text": [
      "Forecast: 233    1948.314752\n",
      "234    2709.018548\n",
      "Name: predicted_mean, dtype: float64\n",
      "MAE: 276.6666502464607\n",
      "MSE: 150719.99172516394\n",
      "RMSE: 388.22672721640885\n",
      "MAPE: 13.482780226435706\n"
     ]
    },
    {
     "name": "stderr",
     "output_type": "stream",
     "text": [
      "/Users/jungo/opt/anaconda3/lib/python3.9/site-packages/statsmodels/tsa/base/tsa_model.py:471: ValueWarning: A date index has been provided, but it has no associated frequency information and so will be ignored when e.g. forecasting.\n",
      "  self._init_dates(dates, freq)\n",
      "/Users/jungo/opt/anaconda3/lib/python3.9/site-packages/statsmodels/tsa/base/tsa_model.py:471: ValueWarning: A date index has been provided, but it has no associated frequency information and so will be ignored when e.g. forecasting.\n",
      "  self._init_dates(dates, freq)\n",
      "/Users/jungo/opt/anaconda3/lib/python3.9/site-packages/statsmodels/tsa/base/tsa_model.py:471: ValueWarning: A date index has been provided, but it has no associated frequency information and so will be ignored when e.g. forecasting.\n",
      "  self._init_dates(dates, freq)\n",
      "/Users/jungo/opt/anaconda3/lib/python3.9/site-packages/statsmodels/tsa/base/tsa_model.py:834: ValueWarning: No supported index is available. Prediction results will be given with an integer index beginning at `start`.\n",
      "  return get_prediction_index(\n"
     ]
    }
   ],
   "source": [
    "import pandas as pd\n",
    "from statsmodels.tsa.arima.model import ARIMA\n",
    "from sklearn.metrics import mean_absolute_error, mean_squared_error\n",
    "from sklearn.model_selection import train_test_split\n",
    "\n",
    "# Read the data from the Excel file\n",
    "data = pd.read_excel('Demand_Forecast_dataset.xlsx.xlsx')\n",
    "\n",
    "# Exclude zero values from the data\n",
    "data_without_zeros = data[data['Units'] != 0]\n",
    "\n",
    "# Filter the data for a specific ID\n",
    "specific_id = 120014488\n",
    "data_specific_id = data_without_zeros[data_without_zeros['ID_material'] == specific_id]\n",
    "\n",
    "# Convert the index to DatetimeIndex\n",
    "data_specific_id.index = pd.to_datetime(data_specific_id.index)\n",
    "\n",
    "# Fit the ARIMA model\n",
    "model = ARIMA(data_specific_id['Units'], order=(0, 1, 1), seasonal_order=(1, 0, 1, 7))\n",
    "model_fit = model.fit()\n",
    "\n",
    "# Forecast for the next two months\n",
    "forecast = model_fit.forecast(steps=2)\n",
    "\n",
    "# Get the predicted mean values\n",
    "pred_mean = forecast\n",
    "\n",
    "# Calculate MAE (Mean Absolute Error)\n",
    "mae = mean_absolute_error(data_specific_id['Units'][-2:], pred_mean)\n",
    "\n",
    "# Calculate MSE (Mean Squared Error)\n",
    "mse = mean_squared_error(data_specific_id['Units'][-2:], pred_mean)\n",
    "\n",
    "# Calculate RMSE (Root Mean Squared Error)\n",
    "rmse = mean_squared_error(data_specific_id['Units'][-2:], pred_mean, squared=False)\n",
    "\n",
    "# Calculate MAPE (Mean Absolute Percentage Error)\n",
    "mape = 100 * mae / data_specific_id['Units'][-2:].mean()\n",
    "\n",
    "# Print the forecasted values and evaluation metrics\n",
    "print(\"Forecast:\", pred_mean)\n",
    "print(\"MAE:\", mae)\n",
    "print(\"MSE:\", mse)\n",
    "print(\"RMSE:\", rmse)\n",
    "print(\"MAPE:\", mape)"
   ]
  },
  {
   "cell_type": "code",
   "execution_count": 29,
   "id": "ee1ee0b5-20bc-4e30-9a9e-45d36be49a2a",
   "metadata": {},
   "outputs": [
    {
     "name": "stdout",
     "output_type": "stream",
     "text": [
      "Actual values for Material ID 120014488:\n",
      "[1944. 2160.]\n"
     ]
    }
   ],
   "source": [
    "import pandas as pd\n",
    "\n",
    "# Load the data from Excel file\n",
    "data = pd.read_excel('Demand_Forecast_dataset.xlsx.xlsx')\n",
    "\n",
    "# Filter the data for Material ID 120014486\n",
    "material_data = data[data['ID_material'] == 120014488]\n",
    "\n",
    "# Extract the actual values for the forecasted periods\n",
    "actual_values = material_data.tail(2)['Units'].values\n",
    "\n",
    "# Print the actual values\n",
    "print(\"Actual values for Material ID 120014488:\")\n",
    "print(actual_values)"
   ]
  },
  {
   "cell_type": "code",
   "execution_count": 30,
   "id": "ad278cc8-969b-4899-a922-3f8ca2e215f9",
   "metadata": {},
   "outputs": [
    {
     "name": "stdout",
     "output_type": "stream",
     "text": [
      "Accuracy for Material ID 120014488: 87.18%\n"
     ]
    }
   ],
   "source": [
    "import numpy as np\n",
    "\n",
    "# Filter out zero values from actual values and forecast values\n",
    "non_zero_indices = actual_values != 0\n",
    "actual_values_non_zero = actual_values[non_zero_indices]\n",
    "forecast_values_non_zero = forecast[non_zero_indices]\n",
    "\n",
    "# Calculate the percentage error\n",
    "percentage_error = (actual_values_non_zero - forecast_values_non_zero) / actual_values_non_zero * 100\n",
    "\n",
    "# Calculate the accuracy percentage\n",
    "accuracy = 100 - np.mean(np.abs(percentage_error))\n",
    "\n",
    "# Print the accuracy percentage\n",
    "print(\"Accuracy for Material ID 120014488: {:.2f}%\".format(accuracy))"
   ]
  },
  {
   "cell_type": "code",
   "execution_count": 37,
   "id": "58aa326e-a582-4301-a905-dd0f410a573c",
   "metadata": {},
   "outputs": [],
   "source": [
    "#ID_material: 120015996\n",
    "#SARIMA parameters: (2, 0, 2) (1, 0, 0, 7)\n",
    "#Stationary\n",
    "#Seasonal: Weekly"
   ]
  },
  {
   "cell_type": "code",
   "execution_count": 31,
   "id": "7b724d1c-938f-42e6-a9cc-078e883c8f62",
   "metadata": {},
   "outputs": [
    {
     "name": "stdout",
     "output_type": "stream",
     "text": [
      "Forecast: 238    1188.995203\n",
      "239    1219.762472\n",
      "Name: predicted_mean, dtype: float64\n",
      "MAE: 837.3836343492809\n",
      "MSE: 712527.8081098843\n",
      "RMSE: 844.1136227486702\n",
      "MAPE: 76.26444757279425\n"
     ]
    },
    {
     "name": "stderr",
     "output_type": "stream",
     "text": [
      "/Users/jungo/opt/anaconda3/lib/python3.9/site-packages/statsmodels/tsa/base/tsa_model.py:471: ValueWarning: A date index has been provided, but it has no associated frequency information and so will be ignored when e.g. forecasting.\n",
      "  self._init_dates(dates, freq)\n",
      "/Users/jungo/opt/anaconda3/lib/python3.9/site-packages/statsmodels/tsa/base/tsa_model.py:471: ValueWarning: A date index has been provided, but it has no associated frequency information and so will be ignored when e.g. forecasting.\n",
      "  self._init_dates(dates, freq)\n",
      "/Users/jungo/opt/anaconda3/lib/python3.9/site-packages/statsmodels/tsa/base/tsa_model.py:471: ValueWarning: A date index has been provided, but it has no associated frequency information and so will be ignored when e.g. forecasting.\n",
      "  self._init_dates(dates, freq)\n",
      "/Users/jungo/opt/anaconda3/lib/python3.9/site-packages/statsmodels/tsa/base/tsa_model.py:834: ValueWarning: No supported index is available. Prediction results will be given with an integer index beginning at `start`.\n",
      "  return get_prediction_index(\n"
     ]
    }
   ],
   "source": [
    "import pandas as pd\n",
    "from statsmodels.tsa.arima.model import ARIMA\n",
    "from sklearn.metrics import mean_absolute_error, mean_squared_error\n",
    "from sklearn.model_selection import train_test_split\n",
    "\n",
    "# Read the data from the Excel file\n",
    "data = pd.read_excel('Demand_Forecast_dataset.xlsx.xlsx')\n",
    "\n",
    "# Exclude zero values from the data\n",
    "data_without_zeros = data[data['Units'] != 0]\n",
    "\n",
    "# Filter the data for a specific ID\n",
    "specific_id = 120015996\n",
    "data_specific_id = data_without_zeros[data_without_zeros['ID_material'] == specific_id]\n",
    "\n",
    "# Convert the index to DatetimeIndex\n",
    "data_specific_id.index = pd.to_datetime(data_specific_id.index)\n",
    "\n",
    "# Fit the ARIMA model\n",
    "model = ARIMA(data_specific_id['Units'], order=(2, 0, 2), seasonal_order=(1, 0, 0, 7))\n",
    "model_fit = model.fit()\n",
    "\n",
    "# Forecast for the next two months\n",
    "forecast = model_fit.forecast(steps=2)\n",
    "\n",
    "# Get the predicted mean values\n",
    "pred_mean = forecast\n",
    "\n",
    "# Calculate MAE (Mean Absolute Error)\n",
    "mae = mean_absolute_error(data_specific_id['Units'][-2:], pred_mean)\n",
    "\n",
    "# Calculate MSE (Mean Squared Error)\n",
    "mse = mean_squared_error(data_specific_id['Units'][-2:], pred_mean)\n",
    "\n",
    "# Calculate RMSE (Root Mean Squared Error)\n",
    "rmse = mean_squared_error(data_specific_id['Units'][-2:], pred_mean, squared=False)\n",
    "\n",
    "# Calculate MAPE (Mean Absolute Percentage Error)\n",
    "mape = 100 * mae / data_specific_id['Units'][-2:].mean()\n",
    "\n",
    "# Print the forecasted values and evaluation metrics\n",
    "print(\"Forecast:\", pred_mean)\n",
    "print(\"MAE:\", mae)\n",
    "print(\"MSE:\", mse)\n",
    "print(\"RMSE:\", rmse)\n",
    "print(\"MAPE:\", mape)"
   ]
  },
  {
   "cell_type": "code",
   "execution_count": 32,
   "id": "a29cf85b-915b-4e8b-b69c-cc63c80ab1c5",
   "metadata": {},
   "outputs": [
    {
     "name": "stdout",
     "output_type": "stream",
     "text": [
      "Actual values for Material ID 120015996:\n",
      "[1920.  276.]\n"
     ]
    }
   ],
   "source": [
    "import pandas as pd\n",
    "\n",
    "# Load the data from Excel file\n",
    "data = pd.read_excel('Demand_Forecast_dataset.xlsx.xlsx')\n",
    "\n",
    "# Filter the data for Material ID 120014486\n",
    "material_data = data[data['ID_material'] == 120015996]\n",
    "\n",
    "# Extract the actual values for the forecasted periods\n",
    "actual_values = material_data.tail(2)['Units'].values\n",
    "\n",
    "# Print the actual values\n",
    "print(\"Actual values for Material ID 120015996:\")\n",
    "print(actual_values)"
   ]
  },
  {
   "cell_type": "code",
   "execution_count": 33,
   "id": "eeac3a71-5162-400a-9e18-b318f5dc7fb8",
   "metadata": {},
   "outputs": [
    {
     "name": "stdout",
     "output_type": "stream",
     "text": [
      "Accuracy for Material ID 120015996: -90.01%\n"
     ]
    }
   ],
   "source": [
    "import numpy as np\n",
    "\n",
    "# Filter out zero values from actual values and forecast values\n",
    "non_zero_indices = actual_values != 0\n",
    "actual_values_non_zero = actual_values[non_zero_indices]\n",
    "forecast_values_non_zero = forecast[non_zero_indices]\n",
    "\n",
    "# Calculate the percentage error\n",
    "percentage_error = (actual_values_non_zero - forecast_values_non_zero) / actual_values_non_zero * 100\n",
    "\n",
    "# Calculate the accuracy percentage\n",
    "accuracy = 100 - np.mean(np.abs(percentage_error))\n",
    "\n",
    "# Print the accuracy percentage\n",
    "print(\"Accuracy for Material ID 120015996: {:.2f}%\".format(accuracy))"
   ]
  },
  {
   "cell_type": "code",
   "execution_count": 41,
   "id": "dfdee98b-56b0-4d57-9ecf-2dac571396a1",
   "metadata": {},
   "outputs": [],
   "source": [
    "#ID_material: 120012606\n",
    "#SARIMA parameters: (2, 0, 2) (0, 1, 1, 12)\n",
    "#Stationary\n",
    "#Seasonal: Monthly"
   ]
  },
  {
   "cell_type": "code",
   "execution_count": 34,
   "id": "1839b829-978e-44a8-8dee-7ed8fd1a6b53",
   "metadata": {},
   "outputs": [
    {
     "name": "stderr",
     "output_type": "stream",
     "text": [
      "/Users/jungo/opt/anaconda3/lib/python3.9/site-packages/statsmodels/tsa/base/tsa_model.py:471: ValueWarning: A date index has been provided, but it has no associated frequency information and so will be ignored when e.g. forecasting.\n",
      "  self._init_dates(dates, freq)\n",
      "/Users/jungo/opt/anaconda3/lib/python3.9/site-packages/statsmodels/tsa/base/tsa_model.py:471: ValueWarning: A date index has been provided, but it has no associated frequency information and so will be ignored when e.g. forecasting.\n",
      "  self._init_dates(dates, freq)\n",
      "/Users/jungo/opt/anaconda3/lib/python3.9/site-packages/statsmodels/tsa/base/tsa_model.py:471: ValueWarning: A date index has been provided, but it has no associated frequency information and so will be ignored when e.g. forecasting.\n",
      "  self._init_dates(dates, freq)\n",
      "/Users/jungo/opt/anaconda3/lib/python3.9/site-packages/statsmodels/tsa/statespace/sarimax.py:966: UserWarning: Non-stationary starting autoregressive parameters found. Using zeros as starting parameters.\n",
      "  warn('Non-stationary starting autoregressive parameters'\n",
      "/Users/jungo/opt/anaconda3/lib/python3.9/site-packages/statsmodels/tsa/statespace/sarimax.py:978: UserWarning: Non-invertible starting MA parameters found. Using zeros as starting parameters.\n",
      "  warn('Non-invertible starting MA parameters found.'\n"
     ]
    },
    {
     "name": "stdout",
     "output_type": "stream",
     "text": [
      "Forecast: 114    1596.255165\n",
      "115     366.165444\n",
      "Name: predicted_mean, dtype: float64\n",
      "MAE: 1157.5448607053754\n",
      "MSE: 1365099.0652674048\n",
      "RMSE: 1168.3745398062235\n",
      "MAPE: 140.73493747177818\n"
     ]
    },
    {
     "name": "stderr",
     "output_type": "stream",
     "text": [
      "/Users/jungo/opt/anaconda3/lib/python3.9/site-packages/statsmodels/base/model.py:604: ConvergenceWarning: Maximum Likelihood optimization failed to converge. Check mle_retvals\n",
      "  warnings.warn(\"Maximum Likelihood optimization failed to \"\n",
      "/Users/jungo/opt/anaconda3/lib/python3.9/site-packages/statsmodels/tsa/base/tsa_model.py:834: ValueWarning: No supported index is available. Prediction results will be given with an integer index beginning at `start`.\n",
      "  return get_prediction_index(\n"
     ]
    }
   ],
   "source": [
    "import pandas as pd\n",
    "from statsmodels.tsa.arima.model import ARIMA\n",
    "from sklearn.metrics import mean_absolute_error, mean_squared_error\n",
    "from sklearn.model_selection import train_test_split\n",
    "\n",
    "# Read the data from the Excel file\n",
    "data = pd.read_excel('Demand_Forecast_dataset.xlsx.xlsx')\n",
    "\n",
    "# Exclude zero values from the data\n",
    "data_without_zeros = data[data['Units'] != 0]\n",
    "\n",
    "# Filter the data for a specific ID\n",
    "specific_id = 120012606\n",
    "data_specific_id = data_without_zeros[data_without_zeros['ID_material'] == specific_id]\n",
    "\n",
    "# Convert the index to DatetimeIndex\n",
    "data_specific_id.index = pd.to_datetime(data_specific_id.index)\n",
    "\n",
    "# Fit the ARIMA model\n",
    "model = ARIMA(data_specific_id['Units'], order=(2, 0, 2), seasonal_order=(0, 1, 1, 12))\n",
    "model_fit = model.fit()\n",
    "\n",
    "# Forecast for the next two months\n",
    "forecast = model_fit.forecast(steps=2)\n",
    "\n",
    "# Get the predicted mean values\n",
    "pred_mean = forecast\n",
    "\n",
    "# Calculate MAE (Mean Absolute Error)\n",
    "mae = mean_absolute_error(data_specific_id['Units'][-2:], pred_mean)\n",
    "\n",
    "# Calculate MSE (Mean Squared Error)\n",
    "mse = mean_squared_error(data_specific_id['Units'][-2:], pred_mean)\n",
    "\n",
    "# Calculate RMSE (Root Mean Squared Error)\n",
    "rmse = mean_squared_error(data_specific_id['Units'][-2:], pred_mean, squared=False)\n",
    "\n",
    "# Calculate MAPE (Mean Absolute Percentage Error)\n",
    "mape = 100 * mae / data_specific_id['Units'][-2:].mean()\n",
    "\n",
    "# Print the forecasted values and evaluation metrics\n",
    "print(\"Forecast:\", pred_mean)\n",
    "print(\"MAE:\", mae)\n",
    "print(\"MSE:\", mse)\n",
    "print(\"RMSE:\", rmse)\n",
    "print(\"MAPE:\", mape)"
   ]
  },
  {
   "cell_type": "code",
   "execution_count": 35,
   "id": "228f7745-a33c-4dbf-8f6a-2b3dd6a0a231",
   "metadata": {},
   "outputs": [
    {
     "name": "stdout",
     "output_type": "stream",
     "text": [
      "Actual values for Material ID 120012606:\n",
      "[ 280. 1365.]\n"
     ]
    }
   ],
   "source": [
    "import pandas as pd\n",
    "\n",
    "# Load the data from Excel file\n",
    "data = pd.read_excel('Demand_Forecast_dataset.xlsx.xlsx')\n",
    "\n",
    "# Filter the data for Material ID 120012606\n",
    "material_data = data[data['ID_material'] == 120012606]\n",
    "\n",
    "# Extract the actual values for the forecasted periods\n",
    "actual_values = material_data.tail(2)['Units'].values\n",
    "\n",
    "# Print the actual values\n",
    "print(\"Actual values for Material ID 120012606:\")\n",
    "print(actual_values)"
   ]
  },
  {
   "cell_type": "code",
   "execution_count": 36,
   "id": "18ca7632-ab4a-4574-8fd9-611d929813b1",
   "metadata": {},
   "outputs": [
    {
     "name": "stdout",
     "output_type": "stream",
     "text": [
      "Accuracy for Material ID 120012606: -171.63%\n"
     ]
    }
   ],
   "source": [
    "import numpy as np\n",
    "\n",
    "# Filter out zero values from actual values and forecast values\n",
    "non_zero_indices = actual_values != 0\n",
    "actual_values_non_zero = actual_values[non_zero_indices]\n",
    "forecast_values_non_zero = forecast[non_zero_indices]\n",
    "\n",
    "# Calculate the percentage error\n",
    "percentage_error = (actual_values_non_zero - forecast_values_non_zero) / actual_values_non_zero * 100\n",
    "\n",
    "# Calculate the accuracy percentage\n",
    "accuracy = 100 - np.mean(np.abs(percentage_error))\n",
    "\n",
    "# Print the accuracy percentage\n",
    "print(\"Accuracy for Material ID 120012606: {:.2f}%\".format(accuracy))"
   ]
  },
  {
   "cell_type": "code",
   "execution_count": 45,
   "id": "3a1ded9b-d0e8-407f-bbc7-ed3ba51c9cbf",
   "metadata": {},
   "outputs": [],
   "source": [
    "#D_material: 120015842\n",
    "#SARIMA parameters: (2, 0, 2) (0, 0, 0, 7)\n",
    "#Stationary\n",
    "#Seasonal: Weekly"
   ]
  },
  {
   "cell_type": "code",
   "execution_count": 37,
   "id": "e9265463-c7da-42f0-8d03-b9ede198445c",
   "metadata": {},
   "outputs": [
    {
     "name": "stdout",
     "output_type": "stream",
     "text": [
      "Forecast: 97    408.485384\n",
      "98    424.528498\n",
      "Name: predicted_mean, dtype: float64\n",
      "MAE: 116.50694109247945\n",
      "MSE: 14359.074991321433\n",
      "RMSE: 119.82935780234088\n",
      "MAPE: 38.83564703082648\n"
     ]
    },
    {
     "name": "stderr",
     "output_type": "stream",
     "text": [
      "/Users/jungo/opt/anaconda3/lib/python3.9/site-packages/statsmodels/tsa/base/tsa_model.py:471: ValueWarning: A date index has been provided, but it has no associated frequency information and so will be ignored when e.g. forecasting.\n",
      "  self._init_dates(dates, freq)\n",
      "/Users/jungo/opt/anaconda3/lib/python3.9/site-packages/statsmodels/tsa/base/tsa_model.py:471: ValueWarning: A date index has been provided, but it has no associated frequency information and so will be ignored when e.g. forecasting.\n",
      "  self._init_dates(dates, freq)\n",
      "/Users/jungo/opt/anaconda3/lib/python3.9/site-packages/statsmodels/tsa/base/tsa_model.py:471: ValueWarning: A date index has been provided, but it has no associated frequency information and so will be ignored when e.g. forecasting.\n",
      "  self._init_dates(dates, freq)\n",
      "/Users/jungo/opt/anaconda3/lib/python3.9/site-packages/statsmodels/tsa/base/tsa_model.py:834: ValueWarning: No supported index is available. Prediction results will be given with an integer index beginning at `start`.\n",
      "  return get_prediction_index(\n"
     ]
    }
   ],
   "source": [
    "import pandas as pd\n",
    "from statsmodels.tsa.arima.model import ARIMA\n",
    "from sklearn.metrics import mean_absolute_error, mean_squared_error\n",
    "from sklearn.model_selection import train_test_split\n",
    "\n",
    "# Read the data from the Excel file\n",
    "data = pd.read_excel('Demand_Forecast_dataset.xlsx.xlsx')\n",
    "\n",
    "# Exclude zero values from the data\n",
    "data_without_zeros = data[data['Units'] != 0]\n",
    "\n",
    "# Filter the data for a specific ID\n",
    "specific_id = 120015842\n",
    "data_specific_id = data_without_zeros[data_without_zeros['ID_material'] == specific_id]\n",
    "\n",
    "# Convert the index to DatetimeIndex\n",
    "data_specific_id.index = pd.to_datetime(data_specific_id.index)\n",
    "\n",
    "# Fit the ARIMA model\n",
    "model = ARIMA(data_specific_id['Units'], order=(2, 0, 2), seasonal_order=(0, 0, 0, 7))\n",
    "model_fit = model.fit()\n",
    "\n",
    "# Forecast for the next two months\n",
    "forecast = model_fit.forecast(steps=2)\n",
    "\n",
    "# Get the predicted mean values\n",
    "pred_mean = forecast\n",
    "\n",
    "# Calculate MAE (Mean Absolute Error)\n",
    "mae = mean_absolute_error(data_specific_id['Units'][-2:], pred_mean)\n",
    "\n",
    "# Calculate MSE (Mean Squared Error)\n",
    "mse = mean_squared_error(data_specific_id['Units'][-2:], pred_mean)\n",
    "\n",
    "# Calculate RMSE (Root Mean Squared Error)\n",
    "rmse = mean_squared_error(data_specific_id['Units'][-2:], pred_mean, squared=False)\n",
    "\n",
    "# Calculate MAPE (Mean Absolute Percentage Error)\n",
    "mape = 100 * mae / data_specific_id['Units'][-2:].mean()\n",
    "\n",
    "# Print the forecasted values and evaluation metrics\n",
    "print(\"Forecast:\", pred_mean)\n",
    "print(\"MAE:\", mae)\n",
    "print(\"MSE:\", mse)\n",
    "print(\"RMSE:\", rmse)\n",
    "print(\"MAPE:\", mape)"
   ]
  },
  {
   "cell_type": "code",
   "execution_count": 38,
   "id": "2eba6fa8-8edb-40fa-b4a5-d67cf7b3a08d",
   "metadata": {},
   "outputs": [
    {
     "name": "stdout",
     "output_type": "stream",
     "text": [
      "Actual values for Material ID 120015842:\n",
      "[320. 280.]\n"
     ]
    }
   ],
   "source": [
    "import pandas as pd\n",
    "\n",
    "# Load the data from Excel file\n",
    "data = pd.read_excel('Demand_Forecast_dataset.xlsx.xlsx')\n",
    "\n",
    "# Filter the data for Material ID 120015842\n",
    "material_data = data[data['ID_material'] == 120015842]\n",
    "\n",
    "# Extract the actual values for the forecasted periods\n",
    "actual_values = material_data.tail(2)['Units'].values\n",
    "\n",
    "# Print the actual values\n",
    "print(\"Actual values for Material ID 120015842:\")\n",
    "print(actual_values)"
   ]
  },
  {
   "cell_type": "code",
   "execution_count": 39,
   "id": "d157a01a-b798-4303-a575-99b7d13e6bcc",
   "metadata": {},
   "outputs": [
    {
     "name": "stdout",
     "output_type": "stream",
     "text": [
      "Accuracy for Material ID 120015842: 60.37%\n"
     ]
    }
   ],
   "source": [
    "import numpy as np\n",
    "\n",
    "# Filter out zero values from actual values and forecast values\n",
    "non_zero_indices = actual_values != 0\n",
    "actual_values_non_zero = actual_values[non_zero_indices]\n",
    "forecast_values_non_zero = forecast[non_zero_indices]\n",
    "\n",
    "# Calculate the percentage error\n",
    "percentage_error = (actual_values_non_zero - forecast_values_non_zero) / actual_values_non_zero * 100\n",
    "\n",
    "# Calculate the accuracy percentage\n",
    "accuracy = 100 - np.mean(np.abs(percentage_error))\n",
    "\n",
    "# Print the accuracy percentage\n",
    "print(\"Accuracy for Material ID 120015842: {:.2f}%\".format(accuracy))"
   ]
  },
  {
   "cell_type": "code",
   "execution_count": 49,
   "id": "3747a9d0-b867-40e5-b478-4827e59d3c80",
   "metadata": {},
   "outputs": [],
   "source": [
    "#ID_material: 120012154\n",
    "#SARIMA parameters: (0, 0, 1) (1, 1, 1, 7)\n",
    "#Stationary\n",
    "#Seasonal: Weekly\n"
   ]
  },
  {
   "cell_type": "code",
   "execution_count": 40,
   "id": "e0f6238d-da21-447b-a9ea-ec9185a1c8b2",
   "metadata": {},
   "outputs": [
    {
     "name": "stdout",
     "output_type": "stream",
     "text": [
      "Forecast: 132     875.727745\n",
      "133    1023.998734\n",
      "Name: predicted_mean, dtype: float64\n",
      "MAE: 760.3632391347602\n",
      "MSE: 633676.3416455758\n",
      "RMSE: 796.0379021413339\n",
      "MAPE: 401.247091891694\n"
     ]
    },
    {
     "name": "stderr",
     "output_type": "stream",
     "text": [
      "/Users/jungo/opt/anaconda3/lib/python3.9/site-packages/statsmodels/tsa/base/tsa_model.py:471: ValueWarning: A date index has been provided, but it has no associated frequency information and so will be ignored when e.g. forecasting.\n",
      "  self._init_dates(dates, freq)\n",
      "/Users/jungo/opt/anaconda3/lib/python3.9/site-packages/statsmodels/tsa/base/tsa_model.py:471: ValueWarning: A date index has been provided, but it has no associated frequency information and so will be ignored when e.g. forecasting.\n",
      "  self._init_dates(dates, freq)\n",
      "/Users/jungo/opt/anaconda3/lib/python3.9/site-packages/statsmodels/tsa/base/tsa_model.py:471: ValueWarning: A date index has been provided, but it has no associated frequency information and so will be ignored when e.g. forecasting.\n",
      "  self._init_dates(dates, freq)\n",
      "/Users/jungo/opt/anaconda3/lib/python3.9/site-packages/statsmodels/tsa/base/tsa_model.py:834: ValueWarning: No supported index is available. Prediction results will be given with an integer index beginning at `start`.\n",
      "  return get_prediction_index(\n"
     ]
    }
   ],
   "source": [
    "import pandas as pd\n",
    "from statsmodels.tsa.arima.model import ARIMA\n",
    "from sklearn.metrics import mean_absolute_error, mean_squared_error\n",
    "from sklearn.model_selection import train_test_split\n",
    "\n",
    "# Read the data from the Excel file\n",
    "data = pd.read_excel('Demand_Forecast_dataset.xlsx.xlsx')\n",
    "\n",
    "# Exclude zero values from the data\n",
    "data_without_zeros = data[data['Units'] != 0]\n",
    "\n",
    "# Filter the data for a specific ID\n",
    "specific_id = 120012154\n",
    "data_specific_id = data_without_zeros[data_without_zeros['ID_material'] == specific_id]\n",
    "\n",
    "# Convert the index to DatetimeIndex\n",
    "data_specific_id.index = pd.to_datetime(data_specific_id.index)\n",
    "\n",
    "# Fit the ARIMA model\n",
    "model = ARIMA(data_specific_id['Units'], order=(0, 0, 1), seasonal_order=(1, 1, 1, 7))\n",
    "model_fit = model.fit()\n",
    "\n",
    "# Forecast for the next two months\n",
    "forecast = model_fit.forecast(steps=2)\n",
    "\n",
    "# Get the predicted mean values\n",
    "pred_mean = forecast\n",
    "\n",
    "# Calculate MAE (Mean Absolute Error)\n",
    "mae = mean_absolute_error(data_specific_id['Units'][-2:], pred_mean)\n",
    "\n",
    "# Calculate MSE (Mean Squared Error)\n",
    "mse = mean_squared_error(data_specific_id['Units'][-2:], pred_mean)\n",
    "\n",
    "# Calculate RMSE (Root Mean Squared Error)\n",
    "rmse = mean_squared_error(data_specific_id['Units'][-2:], pred_mean, squared=False)\n",
    "\n",
    "# Calculate MAPE (Mean Absolute Percentage Error)\n",
    "mape = 100 * mae / data_specific_id['Units'][-2:].mean()\n",
    "\n",
    "# Print the forecasted values and evaluation metrics\n",
    "print(\"Forecast:\", pred_mean)\n",
    "print(\"MAE:\", mae)\n",
    "print(\"MSE:\", mse)\n",
    "print(\"RMSE:\", rmse)\n",
    "print(\"MAPE:\", mape)"
   ]
  },
  {
   "cell_type": "code",
   "execution_count": 41,
   "id": "b6353c9a-1626-4597-a6d5-d314689d64b8",
   "metadata": {},
   "outputs": [
    {
     "name": "stdout",
     "output_type": "stream",
     "text": [
      "Actual values for Material ID 120012154:\n",
      "[0. 0.]\n"
     ]
    }
   ],
   "source": [
    "import pandas as pd\n",
    "\n",
    "# Load the data from Excel file\n",
    "data = pd.read_excel('Demand_Forecast_dataset.xlsx.xlsx')\n",
    "\n",
    "# Filter the data for Material ID 120015842\n",
    "material_data = data[data['ID_material'] == 120012154]\n",
    "\n",
    "# Extract the actual values for the forecasted periods\n",
    "actual_values = material_data.tail(2)['Units'].values\n",
    "\n",
    "# Print the actual values\n",
    "print(\"Actual values for Material ID 120012154:\")\n",
    "print(actual_values)"
   ]
  },
  {
   "cell_type": "code",
   "execution_count": 42,
   "id": "84a64818-0855-4bd5-a6a1-f62c87949235",
   "metadata": {},
   "outputs": [
    {
     "name": "stdout",
     "output_type": "stream",
     "text": [
      "Accuracy for Material ID 120012154: nan%\n"
     ]
    }
   ],
   "source": [
    "import numpy as np\n",
    "\n",
    "# Filter out zero values from actual values and forecast values\n",
    "non_zero_indices = actual_values != 0\n",
    "actual_values_non_zero = actual_values[non_zero_indices]\n",
    "forecast_values_non_zero = forecast[non_zero_indices]\n",
    "\n",
    "# Calculate the percentage error\n",
    "percentage_error = (actual_values_non_zero - forecast_values_non_zero) / actual_values_non_zero * 100\n",
    "\n",
    "# Calculate the accuracy percentage\n",
    "accuracy = 100 - np.mean(np.abs(percentage_error))\n",
    "\n",
    "# Print the accuracy percentage\n",
    "print(\"Accuracy for Material ID 120012154: {:.2f}%\".format(accuracy))"
   ]
  },
  {
   "cell_type": "code",
   "execution_count": 55,
   "id": "cd7e5094-9c0f-4cfc-b6dc-749dbb8c7a4c",
   "metadata": {},
   "outputs": [],
   "source": [
    "##ID_material: 120011556\n",
    "#Best ARIMA parameters: (0, 1, 2)\n",
    "#Stationary\n",
    "#No significant seasonality"
   ]
  },
  {
   "cell_type": "code",
   "execution_count": 45,
   "id": "845c8e03-ef8a-42cb-841e-f0eae348de6c",
   "metadata": {
    "tags": []
   },
   "outputs": [
    {
     "name": "stdout",
     "output_type": "stream",
     "text": [
      "                               SARIMAX Results                                \n",
      "==============================================================================\n",
      "Dep. Variable:                  Units   No. Observations:                  124\n",
      "Model:                 ARIMA(0, 1, 2)   Log Likelihood                -783.323\n",
      "Date:                Fri, 23 Jun 2023   AIC                           1572.645\n",
      "Time:                        11:41:08   BIC                           1581.082\n",
      "Sample:                             0   HQIC                          1576.072\n",
      "                                - 124                                         \n",
      "Covariance Type:                  opg                                         \n",
      "==============================================================================\n",
      "                 coef    std err          z      P>|z|      [0.025      0.975]\n",
      "------------------------------------------------------------------------------\n",
      "ma.L1         -0.9152      2.494     -0.367      0.714      -5.803       3.972\n",
      "ma.L2         -0.0844      0.235     -0.359      0.719      -0.545       0.376\n",
      "sigma2      1.918e+04   4.87e+04      0.394      0.694   -7.63e+04    1.15e+05\n",
      "===================================================================================\n",
      "Ljung-Box (L1) (Q):                   0.04   Jarque-Bera (JB):               168.55\n",
      "Prob(Q):                              0.85   Prob(JB):                         0.00\n",
      "Heteroskedasticity (H):               1.50   Skew:                             1.67\n",
      "Prob(H) (two-sided):                  0.20   Kurtosis:                         7.66\n",
      "===================================================================================\n",
      "\n",
      "Warnings:\n",
      "[1] Covariance matrix calculated using the outer product of gradients (complex-step).\n",
      "MAE: 139.4275558501483\n",
      "MSE: 57186.36050667753\n",
      "RMSE: 239.1366983686894\n",
      "MAPE: nan\n"
     ]
    },
    {
     "name": "stderr",
     "output_type": "stream",
     "text": [
      "/Users/jungo/opt/anaconda3/lib/python3.9/site-packages/statsmodels/tsa/base/tsa_model.py:471: ValueWarning: An unsupported index was provided and will be ignored when e.g. forecasting.\n",
      "  self._init_dates(dates, freq)\n",
      "/Users/jungo/opt/anaconda3/lib/python3.9/site-packages/statsmodels/tsa/base/tsa_model.py:471: ValueWarning: An unsupported index was provided and will be ignored when e.g. forecasting.\n",
      "  self._init_dates(dates, freq)\n",
      "/Users/jungo/opt/anaconda3/lib/python3.9/site-packages/statsmodels/tsa/base/tsa_model.py:471: ValueWarning: An unsupported index was provided and will be ignored when e.g. forecasting.\n",
      "  self._init_dates(dates, freq)\n",
      "/Users/jungo/opt/anaconda3/lib/python3.9/site-packages/statsmodels/tsa/base/tsa_model.py:834: ValueWarning: No supported index is available. Prediction results will be given with an integer index beginning at `start`.\n",
      "  return get_prediction_index(\n"
     ]
    }
   ],
   "source": [
    "import pandas as pd\n",
    "from statsmodels.tsa.arima.model import ARIMA\n",
    "from sklearn.model_selection import train_test_split\n",
    "from sklearn.metrics import mean_absolute_error, mean_squared_error\n",
    "import numpy as np\n",
    "\n",
    "# Set the material ID for which you want to forecast the values\n",
    "material_id = 120011556\n",
    "\n",
    "# Filter the data for the specific material ID\n",
    "material_data = data[data['ID_material'] == material_id]\n",
    "\n",
    "# Prepare the data for ARIMA\n",
    "# Assuming your data has a column named 'Date' containing the dates and a column named 'Units' containing the values\n",
    "dates = material_data['year_week']\n",
    "units = material_data['Units']\n",
    "\n",
    "# Filter out zero values\n",
    "non_zero_units = units[units != 0]\n",
    "\n",
    "\n",
    "# Fit the ARIMA model\n",
    "order = (0, 1, 2)  # (p, d, q) - Autoregressive (AR) order, Integrated (I) order, Moving Average (MA) order\n",
    "model = ARIMA(train_data, order=order)\n",
    "model_fit = model.fit()\n",
    "\n",
    "# Forecast for the test data\n",
    "forecast_values = model_fit.forecast(steps=len(test_data))\n",
    "\n",
    "# Calculate MAE (Mean Absolute Error)\n",
    "mae = mean_absolute_error(test_data, forecast_values)\n",
    "\n",
    "# Calculate MSE (Mean Squared Error)\n",
    "mse = mean_squared_error(test_data, forecast_values)\n",
    "\n",
    "# Calculate RMSE (Root Mean Squared Error)\n",
    "rmse = np.sqrt(mse)\n",
    "\n",
    "# Define a custom function to calculate MAPE (Mean Absolute Percentage Error)\n",
    "def mean_absolute_percentage_error(y_true, y_pred):\n",
    "    return np.mean(np.abs((y_true - y_pred) / y_true)) * 100\n",
    "\n",
    "# Calculate MAPE (Mean Absolute Percentage Error)\n",
    "mape = mean_absolute_percentage_error(test_data, forecast_values)\n",
    "\n",
    "# Print the model summary\n",
    "print(model_fit.summary())\n",
    "print(\"MAE:\", mae)\n",
    "print(\"MSE:\", mse)\n",
    "print(\"RMSE:\", rmse)\n",
    "print(\"MAPE:\", mape)\n"
   ]
  },
  {
   "cell_type": "code",
   "execution_count": null,
   "id": "0a68ffba-9a01-4b8c-8ae8-fbda33007725",
   "metadata": {},
   "outputs": [],
   "source": []
  },
  {
   "cell_type": "code",
   "execution_count": null,
   "id": "55034dc7-b715-4df5-8631-a17a9b6b48e9",
   "metadata": {},
   "outputs": [],
   "source": []
  }
 ],
 "metadata": {
  "kernelspec": {
   "display_name": "Python 3 (ipykernel)",
   "language": "python",
   "name": "python3"
  },
  "language_info": {
   "codemirror_mode": {
    "name": "ipython",
    "version": 3
   },
   "file_extension": ".py",
   "mimetype": "text/x-python",
   "name": "python",
   "nbconvert_exporter": "python",
   "pygments_lexer": "ipython3",
   "version": "3.9.12"
  }
 },
 "nbformat": 4,
 "nbformat_minor": 5
}
