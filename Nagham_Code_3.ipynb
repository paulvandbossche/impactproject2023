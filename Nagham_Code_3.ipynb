{
 "cells": [
  {
   "cell_type": "code",
   "execution_count": 1,
   "id": "1482f560-4e33-4280-8f39-8c0db3a1c103",
   "metadata": {},
   "outputs": [
    {
     "name": "stdout",
     "output_type": "stream",
     "text": [
      "Product ID: 120011782 - Accuracy: 0.13 - MAPE: 12.93%\n"
     ]
    }
   ],
   "source": [
    "import pandas as pd\n",
    "import xgboost as xgb\n",
    "from sklearn.metrics import mean_absolute_percentage_error\n",
    "from sklearn.model_selection import train_test_split\n",
    "\n",
    "# Load the data\n",
    "data = pd.read_excel('Demand_Forecast_dataset.xlsx.xlsx')\n",
    "\n",
    "# Preprocess the data and extract features\n",
    "data['year'] = data['year_week'].apply(lambda x: int(x.split('-')[0]))\n",
    "data['week'] = data['year_week'].apply(lambda x: int(x.split('-')[1]))\n",
    "features = ['year', 'week']\n",
    "\n",
    "# Fit XGBoost models and calculate accuracy for each product ID\n",
    "product_ids = [120011782]\n",
    "accuracies = {}\n",
    "\n",
    "for product_id in product_ids:\n",
    "    # Filter data for the current product ID\n",
    "    product_data = data[data['ID_material'] == product_id]\n",
    "    \n",
    "    # Split the data into training and testing sets\n",
    "    X_train, X_test, y_train, y_test = train_test_split(\n",
    "        product_data[features], product_data['Units'], test_size=0.2, random_state=42)\n",
    "    \n",
    "    # Initialize and train the XGBoost model\n",
    "    model = xgb.XGBRegressor()\n",
    "    model.fit(X_train, y_train)\n",
    "    \n",
    "    # Make predictions on the test set\n",
    "    y_pred = model.predict(X_test)\n",
    "    \n",
    "    # Calculate mean absolute percentage error (MAPE)\n",
    "    accuracy = mean_absolute_percentage_error(y_test, y_pred)\n",
    "    \n",
    "    # Store the accuracy for the current product ID\n",
    "    accuracies[product_id] = accuracy\n",
    "\n",
    "# Print the accuracies and MAPE\n",
    "for product_id, accuracy in accuracies.items():\n",
    "    mape = accuracy * 100  # Multiply by 100 to get the MAPE in percentage\n",
    "    print(f\"Product ID: {product_id} - Accuracy: {accuracy:.2f} - MAPE: {mape:.2f}%\")\n",
    "\n"
   ]
  },
  {
   "cell_type": "code",
   "execution_count": 4,
   "id": "d73bcb88-af9d-437e-8256-8b65cc74a1e1",
   "metadata": {},
   "outputs": [
    {
     "name": "stdout",
     "output_type": "stream",
     "text": [
      "Product ID: 120014486 - Accuracy: 309915349012007040.00 - MAPE: 30991534901200703488.00%\n",
      "Product ID: 120015996 - Accuracy: 0.81 - MAPE: 81.40%\n",
      "Product ID: 120012606 - Accuracy: 1.89 - MAPE: 188.74%\n",
      "Product ID: 120015842 - Accuracy: 36027615043964108.00 - MAPE: 3602761504396410880.00%\n",
      "Product ID: 120012154 - Accuracy: 12950930260941678.00 - MAPE: 1295093026094167808.00%\n",
      "Product ID: 120009816 - Accuracy: 498970433797429760.00 - MAPE: 49897043379742973952.00%\n",
      "Product ID: 120009814 - Accuracy: 179877184650625376.00 - MAPE: 17987718465062537216.00%\n",
      "Product ID: 120010342 - Accuracy: 175059065481991616.00 - MAPE: 17505906548199161856.00%\n",
      "Product ID: 120010566 - Accuracy: 218004214736534048.00 - MAPE: 21800421473653403648.00%\n",
      "Product ID: 120011782 - Accuracy: 0.13 - MAPE: 12.93%\n"
     ]
    }
   ],
   "source": [
    "import pandas as pd\n",
    "import xgboost as xgb\n",
    "from sklearn.metrics import mean_absolute_percentage_error\n",
    "from sklearn.model_selection import train_test_split\n",
    "\n",
    "# Load the data\n",
    "data = pd.read_excel('Demand_Forecast_dataset.xlsx.xlsx')\n",
    "\n",
    "# Preprocess the data and extract features\n",
    "data['year'] = data['year_week'].apply(lambda x: int(x.split('-')[0]))\n",
    "data['week'] = data['year_week'].apply(lambda x: int(x.split('-')[1]))\n",
    "features = ['year', 'week']\n",
    "\n",
    "# Fit XGBoost models and calculate accuracy for each product ID\n",
    "product_ids = [120014486, 120015996,  120012606, 120015842, 120012154, 120009816, 120009814, 120010342, 120010566, 120011782 ]\n",
    "accuracies = {}\n",
    "\n",
    "for product_id in product_ids:\n",
    "    # Filter data for the current product ID\n",
    "    product_data = data[data['ID_material'] == product_id]\n",
    "    \n",
    "    # Split the data into training and testing sets\n",
    "    X_train, X_test, y_train, y_test = train_test_split(\n",
    "        product_data[features], product_data['Units'], test_size=0.2, random_state=42)\n",
    "    \n",
    "    # Initialize and train the XGBoost model\n",
    "    model = xgb.XGBRegressor()\n",
    "    model.fit(X_train, y_train)\n",
    "    \n",
    "    # Make predictions on the test set\n",
    "    y_pred = model.predict(X_test)\n",
    "    \n",
    "    # Calculate mean absolute percentage error (MAPE)\n",
    "    accuracy = mean_absolute_percentage_error(y_test, y_pred)\n",
    "    \n",
    "    # Store the accuracy for the current product ID\n",
    "    accuracies[product_id] = accuracy\n",
    "\n",
    "# Print the accuracies and MAPE\n",
    "for product_id, accuracy in accuracies.items():\n",
    "    mape = accuracy * 100  # Multiply by 100 to get the MAPE in percentage\n",
    "    print(f\"Product ID: {product_id} - Accuracy: {accuracy:.2f} - MAPE: {mape:.2f}%\")\n",
    "\n",
    "\n"
   ]
  },
  {
   "cell_type": "code",
   "execution_count": null,
   "id": "29d15f8c-bd76-4650-81e5-58e217387988",
   "metadata": {},
   "outputs": [],
   "source": []
  }
 ],
 "metadata": {
  "kernelspec": {
   "display_name": "Python 3 (ipykernel)",
   "language": "python",
   "name": "python3"
  },
  "language_info": {
   "codemirror_mode": {
    "name": "ipython",
    "version": 3
   },
   "file_extension": ".py",
   "mimetype": "text/x-python",
   "name": "python",
   "nbconvert_exporter": "python",
   "pygments_lexer": "ipython3",
   "version": "3.9.12"
  }
 },
 "nbformat": 4,
 "nbformat_minor": 5
}
